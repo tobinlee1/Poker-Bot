{
 "cells": [
  {
   "cell_type": "code",
   "execution_count": 1,
   "metadata": {},
   "outputs": [
    {
     "data": {
      "text/plain": [
       "'\\n#testing\\nimport torch\\nimport time\\ndef gputester(MATRIX_SIZE):\\n    # Define the size of the matrices (adjust for your system)\\n\\n    # Create random matrices\\n    cpu_tensor1 = torch.randn(MATRIX_SIZE, MATRIX_SIZE)\\n    cpu_tensor2 = torch.randn(MATRIX_SIZE, MATRIX_SIZE)\\n\\n    # Move tensors to GPU (if available)\\n    device = torch.device(\"cuda\" if torch.cuda.is_available() else \"cpu\")\\n    gpu_tensor1 = cpu_tensor1.to(device)\\n    gpu_tensor2 = cpu_tensor2.to(device)\\n\\n    ### **🔹 CPU Benchmark**\\n    start_cpu = time.time()\\n    cpu_result = torch.matmul(cpu_tensor1, cpu_tensor2)  # Matrix multiplication on CPU\\n    end_cpu = time.time()\\n    cpu_time = end_cpu - start_cpu\\n    print(f\"✅ CPU Time: {cpu_time:.4f} seconds\")\\n\\n    ### **🔹 GPU Benchmark**\\n    # Ensure the GPU is warmed up\\n    torch.matmul(gpu_tensor1, gpu_tensor2)\\n\\n    # Measure GPU performance\\n    torch.cuda.synchronize()  # Ensure operations are completed before timing\\n    start_gpu = time.time()\\n    gpu_result = torch.matmul(gpu_tensor1, gpu_tensor2)  # Matrix multiplication on GPU\\n    torch.cuda.synchronize()  # Ensure GPU computation is finished before stopping time\\n    end_gpu = time.time()\\n    gpu_time = end_gpu - start_gpu\\n    print(f\"🚀 GPU Time: {gpu_time:.4f} seconds\")\\n\\n    ### **🔹 Speedup Factor**\\n    if torch.cuda.is_available():\\n        speedup = cpu_time / gpu_time\\n        print(f\"🔥 GPU is {speedup:.2f}x faster than CPU!\")\\n    else:\\n        print(\"⚠️ CUDA is not available! Running only on CPU.\")\\n\\ngputester(10000)\\n'"
      ]
     },
     "execution_count": 1,
     "metadata": {},
     "output_type": "execute_result"
    }
   ],
   "source": [
    "'''\n",
    "#testing\n",
    "import torch\n",
    "import time\n",
    "def gputester(MATRIX_SIZE):\n",
    "    # Define the size of the matrices (adjust for your system)\n",
    "\n",
    "    # Create random matrices\n",
    "    cpu_tensor1 = torch.randn(MATRIX_SIZE, MATRIX_SIZE)\n",
    "    cpu_tensor2 = torch.randn(MATRIX_SIZE, MATRIX_SIZE)\n",
    "\n",
    "    # Move tensors to GPU (if available)\n",
    "    device = torch.device(\"cuda\" if torch.cuda.is_available() else \"cpu\")\n",
    "    gpu_tensor1 = cpu_tensor1.to(device)\n",
    "    gpu_tensor2 = cpu_tensor2.to(device)\n",
    "\n",
    "    ### **🔹 CPU Benchmark**\n",
    "    start_cpu = time.time()\n",
    "    cpu_result = torch.matmul(cpu_tensor1, cpu_tensor2)  # Matrix multiplication on CPU\n",
    "    end_cpu = time.time()\n",
    "    cpu_time = end_cpu - start_cpu\n",
    "    print(f\"✅ CPU Time: {cpu_time:.4f} seconds\")\n",
    "\n",
    "    ### **🔹 GPU Benchmark**\n",
    "    # Ensure the GPU is warmed up\n",
    "    torch.matmul(gpu_tensor1, gpu_tensor2)\n",
    "\n",
    "    # Measure GPU performance\n",
    "    torch.cuda.synchronize()  # Ensure operations are completed before timing\n",
    "    start_gpu = time.time()\n",
    "    gpu_result = torch.matmul(gpu_tensor1, gpu_tensor2)  # Matrix multiplication on GPU\n",
    "    torch.cuda.synchronize()  # Ensure GPU computation is finished before stopping time\n",
    "    end_gpu = time.time()\n",
    "    gpu_time = end_gpu - start_gpu\n",
    "    print(f\"🚀 GPU Time: {gpu_time:.4f} seconds\")\n",
    "\n",
    "    ### **🔹 Speedup Factor**\n",
    "    if torch.cuda.is_available():\n",
    "        speedup = cpu_time / gpu_time\n",
    "        print(f\"🔥 GPU is {speedup:.2f}x faster than CPU!\")\n",
    "    else:\n",
    "        print(\"⚠️ CUDA is not available! Running only on CPU.\")\n",
    "\n",
    "gputester(10000)\n",
    "'''"
   ]
  },
  {
   "cell_type": "code",
   "execution_count": 107,
   "metadata": {},
   "outputs": [],
   "source": [
    "from pypokerengine.players import BasePokerPlayer\n",
    "from pypokerengine.utils.card_utils import gen_cards, estimate_hole_card_win_rate\n",
    "\n",
    "class RuleBasedPokerBot(BasePokerPlayer):\n",
    "\n",
    "    def declare_action(self, valid_actions, hole_card, round_state):\n",
    "        \"\"\" Selects Fold, Call, or Raise based on hand strength. \"\"\"\n",
    "        \n",
    "        # Convert cards into the correct format\n",
    "        hand_strength = estimate_hole_card_win_rate(\n",
    "            nb_simulation=1000, \n",
    "            nb_player=3, \n",
    "            hole_card=gen_cards(hole_card),  # Convert to card objects\n",
    "            community_card=gen_cards(round_state[\"community_card\"])  # Convert community cards\n",
    "        )\n",
    "\n",
    "        action, amount = \"fold\", 0  \n",
    "\n",
    "        if hand_strength >= 0:\n",
    "            raise_action = next((a for a in valid_actions if a[\"action\"] == \"raise\"), None)\n",
    "            if raise_action:\n",
    "                action, amount = \"raise\", raise_action[\"amount\"][\"min\"]\n",
    "            else:\n",
    "                action, amount = \"call\", 0  # If raising is unavailable, call\n",
    "\n",
    "        elif \"call\" in [a[\"action\"] for a in valid_actions]:  \n",
    "            action, amount = \"call\", 0  # Call doesn't need a bet amount\n",
    "        return action, amount  # Must return (action, amount)\n",
    "\n",
    "    def receive_game_start_message(self, game_info): pass  \n",
    "    def receive_round_start_message(self, round_count, hole_card, seats):\n",
    "        print(f\"RuleBasedPokerBot Hole Cards: {hole_card}\\n\")\n",
    "    def receive_street_start_message(self, street, round_state): pass\n",
    "    def receive_game_update_message(self, action, round_state): pass  \n",
    "    def receive_round_result_message(self, winners, hand_info, round_state): pass\n",
    "\n",
    "\n",
    "\n",
    "class AlwaysCallBot(BasePokerPlayer):\n",
    "    def declare_action(self, valid_actions, hole_card, round_state):\n",
    "        \"\"\" Always calls when possible, otherwise folds. \"\"\"\n",
    "        action, amount = \"fold\", 0  # Default to folding\n",
    "        # Check if calling is an option\n",
    "        if any(a[\"action\"] == \"call\" for a in valid_actions):\n",
    "            call_action_info = valid_actions[1]\n",
    "            action, amount = \"call\", call_action_info[\"amount\"]  # Call doesn't require a bet amount\n",
    "        \n",
    "        return action, amount\n",
    "\n",
    "    def receive_game_start_message(self, game_info): pass  \n",
    "    def receive_round_start_message(self, round_count, hole_card, seats):\n",
    "        print(f\"AlwaysCallBot Hole Cards: {hole_card}\\n\")              \n",
    "    def receive_street_start_message(self, street, round_state): pass\n",
    "    def receive_game_update_message(self, action, round_state): pass  \n",
    "    def receive_round_result_message(self, winners, hand_info, round_state): pass\n"
   ]
  },
  {
   "cell_type": "code",
   "execution_count": 109,
   "metadata": {},
   "outputs": [
    {
     "name": "stdout",
     "output_type": "stream",
     "text": [
      "RuleBasedPokerBot Hole Cards: ['C9', 'DA']\n",
      "\n",
      "AlwaysCallBot Hole Cards: ['H5', 'S8']\n",
      "\n",
      "Started the round 1\n",
      "Street \"preflop\" started. (community card = [])\n",
      "\"AlwaysCallBot\" declared \"call:10\"\n",
      "\"RuleBasedPokerBot\" declared \"raise:15\"\n",
      "\"AlwaysCallBot\" declared \"call:15\"\n",
      "Street \"flop\" started. (community card = ['D2', 'C2', 'CJ'])\n",
      "\"AlwaysCallBot\" declared \"call:0\"\n",
      "\"RuleBasedPokerBot\" declared \"raise:10\"\n",
      "\"AlwaysCallBot\" declared \"call:10\"\n",
      "Street \"turn\" started. (community card = ['D2', 'C2', 'CJ', 'D7'])\n",
      "\"AlwaysCallBot\" declared \"call:0\"\n",
      "\"RuleBasedPokerBot\" declared \"raise:10\"\n",
      "\"AlwaysCallBot\" declared \"call:10\"\n",
      "Street \"river\" started. (community card = ['D2', 'C2', 'CJ', 'D7', 'D5'])\n",
      "\"AlwaysCallBot\" declared \"call:0\"\n",
      "\"RuleBasedPokerBot\" declared \"raise:10\"\n",
      "\"AlwaysCallBot\" declared \"call:10\"\n",
      "\"['AlwaysCallBot']\" won the round 1 (stack = {'RuleBasedPokerBot': 55, 'AlwaysCallBot': 145})\n"
     ]
    }
   ],
   "source": [
    "from pypokerengine.api.game import setup_config, start_poker\n",
    "\n",
    "config = setup_config(max_round=1, initial_stack=100, small_blind_amount=5)\n",
    "config.register_player(name=\"RuleBasedPokerBot\", algorithm=RuleBasedPokerBot())\n",
    "config.register_player(name=\"AlwaysCallBot\", algorithm=AlwaysCallBot())\n",
    "\n",
    "game_result = start_poker(config, verbose=1)\n"
   ]
  },
  {
   "cell_type": "code",
   "execution_count": null,
   "metadata": {},
   "outputs": [],
   "source": []
  }
 ],
 "metadata": {
  "kernelspec": {
   "display_name": "Python 3",
   "language": "python",
   "name": "python3"
  },
  "language_info": {
   "codemirror_mode": {
    "name": "ipython",
    "version": 3
   },
   "file_extension": ".py",
   "mimetype": "text/x-python",
   "name": "python",
   "nbconvert_exporter": "python",
   "pygments_lexer": "ipython3",
   "version": "3.10.9"
  }
 },
 "nbformat": 4,
 "nbformat_minor": 2
}
